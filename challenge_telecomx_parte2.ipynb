{
  "cells": [
    {
      "cell_type": "markdown",
      "metadata": {
        "id": "zgvnXy6pRPCm"
      },
      "source": [
        "# Challenge Data Science: Prevendo Churn - Telecom X (Parte 2)\n",
        "\n",
        "**Aluno:** Gabriel Gasperi\n",
        "\n",
        "**Objetivo:** Após a análise exploratória, esta segunda fase do desafio foca na construção de modelos de Machine Learning para prever a evasão de clientes. O objetivo é desenvolver um pipeline completo, desde a preparação final dos dados até a avaliação, comparação e interpretação dos modelos."
      ]
    },
    {
      "cell_type": "markdown",
      "metadata": {
        "id": "mvZMRBNRRPCn"
      },
      "source": [
        "## Passo 0: Preparação do Ambiente"
      ]
    },
    {
      "cell_type": "code",
      "execution_count": 1,
      "metadata": {
        "colab": {
          "base_uri": "https://localhost:8080/"
        },
        "id": "Mz2hA51yRPCn",
        "outputId": "18fd7530-1aa8-4ad0-b599-d6b4da8ed6eb"
      },
      "outputs": [
        {
          "output_type": "stream",
          "name": "stdout",
          "text": [
            "✅ Ambiente preparado e bibliotecas importadas!\n"
          ]
        }
      ],
      "source": [
        "# Importação das bibliotecas essenciais\n",
        "import pandas as pd\n",
        "import numpy as np\n",
        "import matplotlib.pyplot as plt\n",
        "import seaborn as sns\n",
        "\n",
        "# Importando as bibliotecas de Machine Learning do scikit-learn\n",
        "from sklearn.model_selection import train_test_split\n",
        "from sklearn.preprocessing import StandardScaler, OneHotEncoder\n",
        "from sklearn.compose import ColumnTransformer\n",
        "from sklearn.pipeline import Pipeline\n",
        "from sklearn.linear_model import LogisticRegression\n",
        "from sklearn.ensemble import RandomForestClassifier\n",
        "from sklearn.metrics import accuracy_score, classification_report, confusion_matrix, roc_auc_score, roc_curve\n",
        "\n",
        "# Configurações de visualização e warnings\n",
        "sns.set_style('whitegrid')\n",
        "plt.rcParams['figure.figsize'] = (12, 6)\n",
        "import warnings\n",
        "warnings.filterwarnings('ignore')\n",
        "\n",
        "print(\"✅ Ambiente preparado e bibliotecas importadas!\")"
      ]
    },
    {
      "cell_type": "markdown",
      "metadata": {
        "id": "eoTKpAthRPCo"
      },
      "source": [
        "## Passo 1: Preparação dos Dados para Modelagem"
      ]
    },
    {
      "cell_type": "code",
      "execution_count": 2,
      "metadata": {
        "colab": {
          "base_uri": "https://localhost:8080/",
          "height": 308
        },
        "id": "shfoHr5_RPCo",
        "outputId": "c9d74b51-5494-4259-ed65-5f3fd338aa29"
      },
      "outputs": [
        {
          "output_type": "stream",
          "name": "stdout",
          "text": [
            "✅ Dados tratados carregados com sucesso!\n"
          ]
        },
        {
          "output_type": "display_data",
          "data": {
            "text/plain": [
              "   ID_Cliente  Churn  Genero  Aposentado  Possui_Parceiro  Possui_Dependentes  \\\n",
              "0  0002-ORFBO      0  Female           0                1                   1   \n",
              "1  0003-MKNFE      0    Male           0                0                   0   \n",
              "2  0004-TLHLJ      1    Male           0                0                   0   \n",
              "3  0011-IGKFF      1    Male           1                1                   0   \n",
              "4  0013-EXCHZ      1  Female           1                1                   0   \n",
              "\n",
              "   Meses_de_Contrato  Servico_Telefone_Fixo  Possui_Multiplas_Linhas  \\\n",
              "0                  9                      1                        0   \n",
              "1                  9                      1                        1   \n",
              "2                  4                      1                        0   \n",
              "3                 13                      1                        0   \n",
              "4                  3                      1                        0   \n",
              "\n",
              "  Tipo_Servico_Internet  ...  Possui_Suporte_Tecnico  Possui_TV_a_Cabo  \\\n",
              "0                   DSL  ...                       1                 1   \n",
              "1                   DSL  ...                       0                 0   \n",
              "2           Fiber optic  ...                       0                 0   \n",
              "3           Fiber optic  ...                       0                 1   \n",
              "4           Fiber optic  ...                       1                 1   \n",
              "\n",
              "   Possui_Streaming_de_Filmes   Tipo_Contrato  Fatura_Digital  \\\n",
              "0                           0        One year               1   \n",
              "1                           1  Month-to-month               0   \n",
              "2                           0  Month-to-month               1   \n",
              "3                           1  Month-to-month               1   \n",
              "4                           0  Month-to-month               1   \n",
              "\n",
              "   Forma_de_Pagamento Faturamento_Mensal  Total_Gasto Faturamento_Diario  \\\n",
              "0        Mailed check               65.6       593.30               2.19   \n",
              "1        Mailed check               59.9       542.40               2.00   \n",
              "2    Electronic check               73.9       280.85               2.46   \n",
              "3    Electronic check               98.0      1237.85               3.27   \n",
              "4        Mailed check               83.9       267.40               2.80   \n",
              "\n",
              "   Quantidade_Servicos  \n",
              "0                    3  \n",
              "1                    2  \n",
              "2                    1  \n",
              "3                    4  \n",
              "4                    2  \n",
              "\n",
              "[5 rows x 23 columns]"
            ],
            "text/html": [
              "\n",
              "  <div id=\"df-75b09040-f905-48dc-a3d5-ace9b6873bff\" class=\"colab-df-container\">\n",
              "    <div>\n",
              "<style scoped>\n",
              "    .dataframe tbody tr th:only-of-type {\n",
              "        vertical-align: middle;\n",
              "    }\n",
              "\n",
              "    .dataframe tbody tr th {\n",
              "        vertical-align: top;\n",
              "    }\n",
              "\n",
              "    .dataframe thead th {\n",
              "        text-align: right;\n",
              "    }\n",
              "</style>\n",
              "<table border=\"1\" class=\"dataframe\">\n",
              "  <thead>\n",
              "    <tr style=\"text-align: right;\">\n",
              "      <th></th>\n",
              "      <th>ID_Cliente</th>\n",
              "      <th>Churn</th>\n",
              "      <th>Genero</th>\n",
              "      <th>Aposentado</th>\n",
              "      <th>Possui_Parceiro</th>\n",
              "      <th>Possui_Dependentes</th>\n",
              "      <th>Meses_de_Contrato</th>\n",
              "      <th>Servico_Telefone_Fixo</th>\n",
              "      <th>Possui_Multiplas_Linhas</th>\n",
              "      <th>Tipo_Servico_Internet</th>\n",
              "      <th>...</th>\n",
              "      <th>Possui_Suporte_Tecnico</th>\n",
              "      <th>Possui_TV_a_Cabo</th>\n",
              "      <th>Possui_Streaming_de_Filmes</th>\n",
              "      <th>Tipo_Contrato</th>\n",
              "      <th>Fatura_Digital</th>\n",
              "      <th>Forma_de_Pagamento</th>\n",
              "      <th>Faturamento_Mensal</th>\n",
              "      <th>Total_Gasto</th>\n",
              "      <th>Faturamento_Diario</th>\n",
              "      <th>Quantidade_Servicos</th>\n",
              "    </tr>\n",
              "  </thead>\n",
              "  <tbody>\n",
              "    <tr>\n",
              "      <th>0</th>\n",
              "      <td>0002-ORFBO</td>\n",
              "      <td>0</td>\n",
              "      <td>Female</td>\n",
              "      <td>0</td>\n",
              "      <td>1</td>\n",
              "      <td>1</td>\n",
              "      <td>9</td>\n",
              "      <td>1</td>\n",
              "      <td>0</td>\n",
              "      <td>DSL</td>\n",
              "      <td>...</td>\n",
              "      <td>1</td>\n",
              "      <td>1</td>\n",
              "      <td>0</td>\n",
              "      <td>One year</td>\n",
              "      <td>1</td>\n",
              "      <td>Mailed check</td>\n",
              "      <td>65.6</td>\n",
              "      <td>593.30</td>\n",
              "      <td>2.19</td>\n",
              "      <td>3</td>\n",
              "    </tr>\n",
              "    <tr>\n",
              "      <th>1</th>\n",
              "      <td>0003-MKNFE</td>\n",
              "      <td>0</td>\n",
              "      <td>Male</td>\n",
              "      <td>0</td>\n",
              "      <td>0</td>\n",
              "      <td>0</td>\n",
              "      <td>9</td>\n",
              "      <td>1</td>\n",
              "      <td>1</td>\n",
              "      <td>DSL</td>\n",
              "      <td>...</td>\n",
              "      <td>0</td>\n",
              "      <td>0</td>\n",
              "      <td>1</td>\n",
              "      <td>Month-to-month</td>\n",
              "      <td>0</td>\n",
              "      <td>Mailed check</td>\n",
              "      <td>59.9</td>\n",
              "      <td>542.40</td>\n",
              "      <td>2.00</td>\n",
              "      <td>2</td>\n",
              "    </tr>\n",
              "    <tr>\n",
              "      <th>2</th>\n",
              "      <td>0004-TLHLJ</td>\n",
              "      <td>1</td>\n",
              "      <td>Male</td>\n",
              "      <td>0</td>\n",
              "      <td>0</td>\n",
              "      <td>0</td>\n",
              "      <td>4</td>\n",
              "      <td>1</td>\n",
              "      <td>0</td>\n",
              "      <td>Fiber optic</td>\n",
              "      <td>...</td>\n",
              "      <td>0</td>\n",
              "      <td>0</td>\n",
              "      <td>0</td>\n",
              "      <td>Month-to-month</td>\n",
              "      <td>1</td>\n",
              "      <td>Electronic check</td>\n",
              "      <td>73.9</td>\n",
              "      <td>280.85</td>\n",
              "      <td>2.46</td>\n",
              "      <td>1</td>\n",
              "    </tr>\n",
              "    <tr>\n",
              "      <th>3</th>\n",
              "      <td>0011-IGKFF</td>\n",
              "      <td>1</td>\n",
              "      <td>Male</td>\n",
              "      <td>1</td>\n",
              "      <td>1</td>\n",
              "      <td>0</td>\n",
              "      <td>13</td>\n",
              "      <td>1</td>\n",
              "      <td>0</td>\n",
              "      <td>Fiber optic</td>\n",
              "      <td>...</td>\n",
              "      <td>0</td>\n",
              "      <td>1</td>\n",
              "      <td>1</td>\n",
              "      <td>Month-to-month</td>\n",
              "      <td>1</td>\n",
              "      <td>Electronic check</td>\n",
              "      <td>98.0</td>\n",
              "      <td>1237.85</td>\n",
              "      <td>3.27</td>\n",
              "      <td>4</td>\n",
              "    </tr>\n",
              "    <tr>\n",
              "      <th>4</th>\n",
              "      <td>0013-EXCHZ</td>\n",
              "      <td>1</td>\n",
              "      <td>Female</td>\n",
              "      <td>1</td>\n",
              "      <td>1</td>\n",
              "      <td>0</td>\n",
              "      <td>3</td>\n",
              "      <td>1</td>\n",
              "      <td>0</td>\n",
              "      <td>Fiber optic</td>\n",
              "      <td>...</td>\n",
              "      <td>1</td>\n",
              "      <td>1</td>\n",
              "      <td>0</td>\n",
              "      <td>Month-to-month</td>\n",
              "      <td>1</td>\n",
              "      <td>Mailed check</td>\n",
              "      <td>83.9</td>\n",
              "      <td>267.40</td>\n",
              "      <td>2.80</td>\n",
              "      <td>2</td>\n",
              "    </tr>\n",
              "  </tbody>\n",
              "</table>\n",
              "<p>5 rows × 23 columns</p>\n",
              "</div>\n",
              "    <div class=\"colab-df-buttons\">\n",
              "\n",
              "  <div class=\"colab-df-container\">\n",
              "    <button class=\"colab-df-convert\" onclick=\"convertToInteractive('df-75b09040-f905-48dc-a3d5-ace9b6873bff')\"\n",
              "            title=\"Convert this dataframe to an interactive table.\"\n",
              "            style=\"display:none;\">\n",
              "\n",
              "  <svg xmlns=\"http://www.w3.org/2000/svg\" height=\"24px\" viewBox=\"0 -960 960 960\">\n",
              "    <path d=\"M120-120v-720h720v720H120Zm60-500h600v-160H180v160Zm220 220h160v-160H400v160Zm0 220h160v-160H400v160ZM180-400h160v-160H180v160Zm440 0h160v-160H620v160ZM180-180h160v-160H180v160Zm440 0h160v-160H620v160Z\"/>\n",
              "  </svg>\n",
              "    </button>\n",
              "\n",
              "  <style>\n",
              "    .colab-df-container {\n",
              "      display:flex;\n",
              "      gap: 12px;\n",
              "    }\n",
              "\n",
              "    .colab-df-convert {\n",
              "      background-color: #E8F0FE;\n",
              "      border: none;\n",
              "      border-radius: 50%;\n",
              "      cursor: pointer;\n",
              "      display: none;\n",
              "      fill: #1967D2;\n",
              "      height: 32px;\n",
              "      padding: 0 0 0 0;\n",
              "      width: 32px;\n",
              "    }\n",
              "\n",
              "    .colab-df-convert:hover {\n",
              "      background-color: #E2EBFA;\n",
              "      box-shadow: 0px 1px 2px rgba(60, 64, 67, 0.3), 0px 1px 3px 1px rgba(60, 64, 67, 0.15);\n",
              "      fill: #174EA6;\n",
              "    }\n",
              "\n",
              "    .colab-df-buttons div {\n",
              "      margin-bottom: 4px;\n",
              "    }\n",
              "\n",
              "    [theme=dark] .colab-df-convert {\n",
              "      background-color: #3B4455;\n",
              "      fill: #D2E3FC;\n",
              "    }\n",
              "\n",
              "    [theme=dark] .colab-df-convert:hover {\n",
              "      background-color: #434B5C;\n",
              "      box-shadow: 0px 1px 3px 1px rgba(0, 0, 0, 0.15);\n",
              "      filter: drop-shadow(0px 1px 2px rgba(0, 0, 0, 0.3));\n",
              "      fill: #FFFFFF;\n",
              "    }\n",
              "  </style>\n",
              "\n",
              "    <script>\n",
              "      const buttonEl =\n",
              "        document.querySelector('#df-75b09040-f905-48dc-a3d5-ace9b6873bff button.colab-df-convert');\n",
              "      buttonEl.style.display =\n",
              "        google.colab.kernel.accessAllowed ? 'block' : 'none';\n",
              "\n",
              "      async function convertToInteractive(key) {\n",
              "        const element = document.querySelector('#df-75b09040-f905-48dc-a3d5-ace9b6873bff');\n",
              "        const dataTable =\n",
              "          await google.colab.kernel.invokeFunction('convertToInteractive',\n",
              "                                                    [key], {});\n",
              "        if (!dataTable) return;\n",
              "\n",
              "        const docLinkHtml = 'Like what you see? Visit the ' +\n",
              "          '<a target=\"_blank\" href=https://colab.research.google.com/notebooks/data_table.ipynb>data table notebook</a>'\n",
              "          + ' to learn more about interactive tables.';\n",
              "        element.innerHTML = '';\n",
              "        dataTable['output_type'] = 'display_data';\n",
              "        await google.colab.output.renderOutput(dataTable, element);\n",
              "        const docLink = document.createElement('div');\n",
              "        docLink.innerHTML = docLinkHtml;\n",
              "        element.appendChild(docLink);\n",
              "      }\n",
              "    </script>\n",
              "  </div>\n",
              "\n",
              "\n",
              "    <div id=\"df-720971b5-7ced-43cb-848e-a2bd77921344\">\n",
              "      <button class=\"colab-df-quickchart\" onclick=\"quickchart('df-720971b5-7ced-43cb-848e-a2bd77921344')\"\n",
              "                title=\"Suggest charts\"\n",
              "                style=\"display:none;\">\n",
              "\n",
              "<svg xmlns=\"http://www.w3.org/2000/svg\" height=\"24px\"viewBox=\"0 0 24 24\"\n",
              "     width=\"24px\">\n",
              "    <g>\n",
              "        <path d=\"M19 3H5c-1.1 0-2 .9-2 2v14c0 1.1.9 2 2 2h14c1.1 0 2-.9 2-2V5c0-1.1-.9-2-2-2zM9 17H7v-7h2v7zm4 0h-2V7h2v10zm4 0h-2v-4h2v4z\"/>\n",
              "    </g>\n",
              "</svg>\n",
              "      </button>\n",
              "\n",
              "<style>\n",
              "  .colab-df-quickchart {\n",
              "      --bg-color: #E8F0FE;\n",
              "      --fill-color: #1967D2;\n",
              "      --hover-bg-color: #E2EBFA;\n",
              "      --hover-fill-color: #174EA6;\n",
              "      --disabled-fill-color: #AAA;\n",
              "      --disabled-bg-color: #DDD;\n",
              "  }\n",
              "\n",
              "  [theme=dark] .colab-df-quickchart {\n",
              "      --bg-color: #3B4455;\n",
              "      --fill-color: #D2E3FC;\n",
              "      --hover-bg-color: #434B5C;\n",
              "      --hover-fill-color: #FFFFFF;\n",
              "      --disabled-bg-color: #3B4455;\n",
              "      --disabled-fill-color: #666;\n",
              "  }\n",
              "\n",
              "  .colab-df-quickchart {\n",
              "    background-color: var(--bg-color);\n",
              "    border: none;\n",
              "    border-radius: 50%;\n",
              "    cursor: pointer;\n",
              "    display: none;\n",
              "    fill: var(--fill-color);\n",
              "    height: 32px;\n",
              "    padding: 0;\n",
              "    width: 32px;\n",
              "  }\n",
              "\n",
              "  .colab-df-quickchart:hover {\n",
              "    background-color: var(--hover-bg-color);\n",
              "    box-shadow: 0 1px 2px rgba(60, 64, 67, 0.3), 0 1px 3px 1px rgba(60, 64, 67, 0.15);\n",
              "    fill: var(--button-hover-fill-color);\n",
              "  }\n",
              "\n",
              "  .colab-df-quickchart-complete:disabled,\n",
              "  .colab-df-quickchart-complete:disabled:hover {\n",
              "    background-color: var(--disabled-bg-color);\n",
              "    fill: var(--disabled-fill-color);\n",
              "    box-shadow: none;\n",
              "  }\n",
              "\n",
              "  .colab-df-spinner {\n",
              "    border: 2px solid var(--fill-color);\n",
              "    border-color: transparent;\n",
              "    border-bottom-color: var(--fill-color);\n",
              "    animation:\n",
              "      spin 1s steps(1) infinite;\n",
              "  }\n",
              "\n",
              "  @keyframes spin {\n",
              "    0% {\n",
              "      border-color: transparent;\n",
              "      border-bottom-color: var(--fill-color);\n",
              "      border-left-color: var(--fill-color);\n",
              "    }\n",
              "    20% {\n",
              "      border-color: transparent;\n",
              "      border-left-color: var(--fill-color);\n",
              "      border-top-color: var(--fill-color);\n",
              "    }\n",
              "    30% {\n",
              "      border-color: transparent;\n",
              "      border-left-color: var(--fill-color);\n",
              "      border-top-color: var(--fill-color);\n",
              "      border-right-color: var(--fill-color);\n",
              "    }\n",
              "    40% {\n",
              "      border-color: transparent;\n",
              "      border-right-color: var(--fill-color);\n",
              "      border-top-color: var(--fill-color);\n",
              "    }\n",
              "    60% {\n",
              "      border-color: transparent;\n",
              "      border-right-color: var(--fill-color);\n",
              "    }\n",
              "    80% {\n",
              "      border-color: transparent;\n",
              "      border-right-color: var(--fill-color);\n",
              "      border-bottom-color: var(--fill-color);\n",
              "    }\n",
              "    90% {\n",
              "      border-color: transparent;\n",
              "      border-bottom-color: var(--fill-color);\n",
              "    }\n",
              "  }\n",
              "</style>\n",
              "\n",
              "      <script>\n",
              "        async function quickchart(key) {\n",
              "          const quickchartButtonEl =\n",
              "            document.querySelector('#' + key + ' button');\n",
              "          quickchartButtonEl.disabled = true;  // To prevent multiple clicks.\n",
              "          quickchartButtonEl.classList.add('colab-df-spinner');\n",
              "          try {\n",
              "            const charts = await google.colab.kernel.invokeFunction(\n",
              "                'suggestCharts', [key], {});\n",
              "          } catch (error) {\n",
              "            console.error('Error during call to suggestCharts:', error);\n",
              "          }\n",
              "          quickchartButtonEl.classList.remove('colab-df-spinner');\n",
              "          quickchartButtonEl.classList.add('colab-df-quickchart-complete');\n",
              "        }\n",
              "        (() => {\n",
              "          let quickchartButtonEl =\n",
              "            document.querySelector('#df-720971b5-7ced-43cb-848e-a2bd77921344 button');\n",
              "          quickchartButtonEl.style.display =\n",
              "            google.colab.kernel.accessAllowed ? 'block' : 'none';\n",
              "        })();\n",
              "      </script>\n",
              "    </div>\n",
              "\n",
              "    </div>\n",
              "  </div>\n"
            ],
            "application/vnd.google.colaboratory.intrinsic+json": {
              "type": "dataframe"
            }
          },
          "metadata": {}
        }
      ],
      "source": [
        "# Carregando o arquivo CSV tratado na Parte 1\n",
        "try:\n",
        "    df_ml = pd.read_csv('dados_tratados.csv')\n",
        "    print(\"✅ Dados tratados carregados com sucesso!\")\n",
        "    display(df_ml.head())\n",
        "except FileNotFoundError:\n",
        "    print(\"❌ Erro: Arquivo 'dados_tratados.csv' não encontrado. Certifique-se de que ele está no mesmo diretório.\")"
      ]
    },
    {
      "cell_type": "code",
      "execution_count": 3,
      "metadata": {
        "colab": {
          "base_uri": "https://localhost:8080/"
        },
        "id": "ltJsH3_lRPCp",
        "outputId": "c3da76ed-940f-4542-863e-1d8bc3172409"
      },
      "outputs": [
        {
          "output_type": "stream",
          "name": "stdout",
          "text": [
            "Proporção da variável alvo (Churn):\n",
            "Churn\n",
            "0    0.73463\n",
            "1    0.26537\n",
            "Name: proportion, dtype: float64\n",
            "\n",
            "Dimensões dos dados de treino: (4930, 20)\n",
            "Dimensões dos dados de teste: (2113, 20)\n"
          ]
        }
      ],
      "source": [
        "# 1.1 Limpeza Final: Remover colunas de ID e redundantes\n",
        "if 'ID_Cliente' in df_ml.columns:\n",
        "    df_ml = df_ml.drop('ID_Cliente', axis=1)\n",
        "if 'Faturamento_Diario' in df_ml.columns:\n",
        "    df_ml = df_ml.drop('Faturamento_Diario', axis=1)\n",
        "\n",
        "# 1.2 Codificação (Encoding) - Apenas a coluna Gênero, se existir como objeto\n",
        "if 'Genero' in df_ml.columns and df_ml['Genero'].dtype == 'object':\n",
        "    df_ml['Genero'] = df_ml['Genero'].map({'Masculino': 0, 'Feminino': 1})\n",
        "\n",
        "# 1.3 Separando Features (X) e Target (y)\n",
        "X = df_ml.drop('Churn', axis=1)\n",
        "y = df_ml['Churn']\n",
        "\n",
        "# 1.4 Verificando o balanceamento\n",
        "print(\"Proporção da variável alvo (Churn):\")\n",
        "print(y.value_counts(normalize=True))\n",
        "\n",
        "# 1.5 Divisão em Treino e Teste\n",
        "X_train, X_test, y_train, y_test = train_test_split(X, y, test_size=0.3, random_state=42, stratify=y)\n",
        "\n",
        "print(f\"\\nDimensões dos dados de treino: {X_train.shape}\")\n",
        "print(f\"Dimensões dos dados de teste: {X_test.shape}\")"
      ]
    },
    {
      "cell_type": "markdown",
      "metadata": {
        "id": "KOH4canWRPCp"
      },
      "source": [
        "## Passo 2 e 3: Construção, Treinamento e Avaliação de Modelos"
      ]
    },
    {
      "cell_type": "code",
      "execution_count": 6,
      "metadata": {
        "id": "NkTjPVVsRPCp"
      },
      "outputs": [],
      "source": [
        "# Definindo as colunas numéricas e categóricas\n",
        "numeric_features = X.select_dtypes(include=np.number).columns\n",
        "categorical_features = X.select_dtypes(include=['object']).columns\n",
        "\n",
        "# Criando o transformador de pré-processamento com Pipeline\n",
        "from sklearn.impute import SimpleImputer\n",
        "\n",
        "preprocessor = ColumnTransformer(\n",
        "    transformers=[\n",
        "        ('num', Pipeline(steps=[('imputer', SimpleImputer(strategy='mean')), ('scaler', StandardScaler())]), numeric_features),\n",
        "        ('cat', Pipeline(steps=[('imputer', SimpleImputer(strategy='most_frequent')), ('onehot', OneHotEncoder(drop='first', handle_unknown='ignore'))]), categorical_features)\n",
        "    ])"
      ]
    },
    {
      "cell_type": "markdown",
      "metadata": {
        "id": "j8whzR3jRPCp"
      },
      "source": [
        "### Modelo 1: Regressão Logística"
      ]
    },
    {
      "cell_type": "code",
      "execution_count": 7,
      "metadata": {
        "colab": {
          "base_uri": "https://localhost:8080/",
          "height": 802
        },
        "id": "qOhTqN_uRPCp",
        "outputId": "3bf245ed-ba37-44f9-b712-0275b84c31ca"
      },
      "outputs": [
        {
          "output_type": "stream",
          "name": "stdout",
          "text": [
            "--- AVALIAÇÃO: REGRESSÃO LOGÍSTICA ---\n",
            "Acurácia: 0.7974\n",
            "\n",
            "Relatório de Classificação:\n",
            "              precision    recall  f1-score   support\n",
            "\n",
            "   Não Churn       0.85      0.89      0.87      1552\n",
            "       Churn       0.64      0.55      0.59       561\n",
            "\n",
            "    accuracy                           0.80      2113\n",
            "   macro avg       0.74      0.72      0.73      2113\n",
            "weighted avg       0.79      0.80      0.79      2113\n",
            "\n",
            "\n",
            "Matriz de Confusão:\n"
          ]
        },
        {
          "output_type": "display_data",
          "data": {
            "text/plain": [
              "<Figure size 1200x600 with 2 Axes>"
            ],
            "image/png": "[encoded data removed]"
          },
          "metadata": {}
        }
      ],
      "source": [
        "# Criando o pipeline completo para a Regressão Logística\n",
        "log_reg_pipeline = Pipeline(steps=[('preprocessor', preprocessor),\n",
        "                                   ('classifier', LogisticRegression(random_state=42, solver='liblinear'))])\n",
        "\n",
        "# Treinando o pipeline\n",
        "log_reg_pipeline.fit(X_train, y_train)\n",
        "\n",
        "# Fazendo previsões e avaliando\n",
        "y_pred_log_reg = log_reg_pipeline.predict(X_test)\n",
        "\n",
        "print(\"--- AVALIAÇÃO: REGRESSÃO LOGÍSTICA ---\")\n",
        "print(f\"Acurácia: {accuracy_score(y_test, y_pred_log_reg):.4f}\")\n",
        "print(\"\\nRelatório de Classificação:\")\n",
        "print(classification_report(y_test, y_pred_log_reg, target_names=['Não Churn', 'Churn']))\n",
        "print(\"\\nMatriz de Confusão:\")\n",
        "sns.heatmap(confusion_matrix(y_test, y_pred_log_reg), annot=True, fmt='d', cmap='Blues')\n",
        "plt.xlabel(\"Previsto\")\n",
        "plt.ylabel(\"Verdadeiro\")\n",
        "plt.show()"
      ]
    },
    {
      "cell_type": "markdown",
      "metadata": {
        "id": "07J05x8pRPCp"
      },
      "source": [
        "### Modelo 2: Random Forest"
      ]
    },
    {
      "cell_type": "code",
      "execution_count": 8,
      "metadata": {
        "colab": {
          "base_uri": "https://localhost:8080/",
          "height": 802
        },
        "id": "Z8-2-p11RPCq",
        "outputId": "5f0ff2d7-9f1f-4749-dcb0-4957860d32d0"
      },
      "outputs": [
        {
          "output_type": "stream",
          "name": "stdout",
          "text": [
            "--- AVALIAÇÃO: RANDOM FOREST ---\n",
            "Acurácia: 0.7780\n",
            "\n",
            "Relatório de Classificação:\n",
            "              precision    recall  f1-score   support\n",
            "\n",
            "   Não Churn       0.82      0.89      0.85      1552\n",
            "       Churn       0.61      0.47      0.53       561\n",
            "\n",
            "    accuracy                           0.78      2113\n",
            "   macro avg       0.71      0.68      0.69      2113\n",
            "weighted avg       0.77      0.78      0.77      2113\n",
            "\n",
            "\n",
            "Matriz de Confusão:\n"
          ]
        },
        {
          "output_type": "display_data",
          "data": {
            "text/plain": [
              "<Figure size 1200x600 with 2 Axes>"
            ],
            "image/png": "[encoded data removed]"
          },
          "metadata": {}
        }
      ],
      "source": [
        "# Criando o pipeline para o Random Forest\n",
        "rf_pipeline = Pipeline(steps=[('preprocessor', preprocessor),\n",
        "                              ('classifier', RandomForestClassifier(random_state=42, class_weight='balanced'))])\n",
        "\n",
        "# Treinando o pipeline\n",
        "rf_pipeline.fit(X_train, y_train)\n",
        "\n",
        "# Fazendo previsões e avaliando\n",
        "y_pred_rf = rf_pipeline.predict(X_test)\n",
        "\n",
        "print(\"--- AVALIAÇÃO: RANDOM FOREST ---\")\n",
        "print(f\"Acurácia: {accuracy_score(y_test, y_pred_rf):.4f}\")\n",
        "print(\"\\nRelatório de Classificação:\")\n",
        "print(classification_report(y_test, y_pred_rf, target_names=['Não Churn', 'Churn']))\n",
        "print(\"\\nMatriz de Confusão:\")\n",
        "sns.heatmap(confusion_matrix(y_test, y_pred_rf), annot=True, fmt='d', cmap='Greens')\n",
        "plt.xlabel(\"Previsto\")\n",
        "plt.ylabel(\"Verdadeiro\")\n",
        "plt.show()"
      ]
    },
    {
      "cell_type": "markdown",
      "metadata": {
        "id": "Lp5c6akPRPCq"
      },
      "source": [
        "### Comparação Final com a Curva ROC"
      ]
    },
    {
      "cell_type": "code",
      "execution_count": 12,
      "metadata": {
        "colab": {
          "base_uri": "https://localhost:8080/",
          "height": 643
        },
        "id": "pRXZjoIvRPCq",
        "outputId": "91e4cf5a-166f-446f-dae2-121c9de2366c"
      },
      "outputs": [
        {
          "output_type": "display_data",
          "data": {
            "text/plain": [
              "<Figure size 1000x700 with 1 Axes>"
            ],
            "image/png": "[encoded data removed]"
          },
          "metadata": {}
        }
      ],
      "source": [
        "# Plotando a Curva ROC\n",
        "plt.figure(figsize=(10, 7))\n",
        "\n",
        "# Modelo 1\n",
        "y_prob_log_reg = log_reg_pipeline.predict_proba(X_test)[:, 1]\n",
        "fpr_log, tpr_log, _ = roc_curve(y_test, y_prob_log_reg)\n",
        "auc_log = roc_auc_score(y_test, y_prob_log_reg)\n",
        "plt.plot(fpr_log, tpr_log, label=f'Regressão Logística (AUC = {auc_log:.3f})', color='blue')\n",
        "\n",
        "# Modelo 2\n",
        "y_prob_rf = rf_pipeline.predict_proba(X_test)[:, 1]\n",
        "fpr_rf, tpr_rf, _ = roc_curve(y_test, y_prob_rf)\n",
        "auc_rf = roc_auc_score(y_test, y_prob_rf)\n",
        "plt.plot(fpr_rf, tpr_rf, label=f'Random Forest (AUC = {auc_rf:.3f})', color='green')\n",
        "\n",
        "# Linha de referência\n",
        "plt.plot([0, 1], [0, 1], color='red', linestyle='--', label='Modelo Aleatório (AUC = 0.500)')\n",
        "\n",
        "plt.title('Curva ROC - Comparação de Modelos', fontsize=16)\n",
        "plt.xlabel('Taxa de Falsos Positivos (FPR)')\n",
        "plt.ylabel('Taxa de Verdadeiros Positivos (TPR)')\n",
        "plt.legend()\n",
        "plt.grid(True)\n",
        "plt.show()"
      ]
    },
    {
      "cell_type": "markdown",
      "metadata": {
        "id": "9WixdxbyRPCq"
      },
      "source": [
        "## Passo 4: Interpretação dos Resultados e Relatório Estratégico"
      ]
    },
    {
      "cell_type": "markdown",
      "metadata": {
        "id": "bu5rB1ZSRPCq"
      },
      "source": [
        "\n",
        "### Resumo Executivo\n",
        "Este relatório detalha a construção e avaliação de modelos de Machine Learning para prever a evasão de clientes na Telecom X, dando continuidade à análise exploratória. O objetivo foi criar um modelo preditivo robusto para identificar proativamente os clientes com maior risco de cancelamento. Foram testados dois modelos, Regressão Logística e Random Forest.\n",
        "O modelo de Regressão Logística foi selecionado como a solução final devido ao seu desempenho superior e equilibrado, alcançando um AUC (Área Sob a Curva ROC) de 0.835 e um Recall de 55% para a classe \"Churn\". Isso significa que o modelo é capaz de identificar corretamente 55% dos clientes que realmente irão cancelar, fornecendo à empresa uma ferramenta acionável para direcionar suas campanhas de retenção de forma eficaz e com alto potencial de retorno sobre o investimento.\n",
        "### Metodologia de Modelagem\n",
        "O processo de construção do modelo seguiu as melhores práticas de Machine Learning:\n",
        "Preparação dos Dados: O dataset tratado da Parte 1 foi utilizado, removendo-se colunas de identificação e variáveis redundantes.\n",
        "Pré-processamento: Foi construído um pipeline de pré-processamento que aplica:\n",
        "StandardScaler às variáveis numéricas para normalizá-las.\n",
        "OneHotEncoder às variáveis categóricas (Tipo_Contrato, Forma_de_Pagamento, etc.) para convertê-las em um formato numérico que o modelo possa interpretar.\n",
        "Divisão dos Dados: O conjunto de dados foi dividido em 70% para treino e 30% para teste, utilizando uma amostragem estratificada para manter a proporção de churn em ambos os conjuntos.\n",
        "Modelos Testados:\n",
        "Regressão Logística: Um modelo linear robusto e altamente interpretável.\n",
        "Random Forest: Um modelo de conjunto (ensemble) poderoso, com o parâmetro class_weight='balanced' para lidar com o desbalanceamento dos dados.\n",
        "Métricas de Avaliação: Os modelos foram avaliados com base na Acurácia, Relatório de Classificação (Precisão, Recall, F1-Score) e, principalmente, na Curva ROC e AUC, que são as métricas mais adequadas para problemas de classificação desbalanceados.\n",
        "### Resultados e Escolha do Modelo\n",
        "Ambos os modelos apresentaram um bom desempenho, superando significativamente um modelo aleatório. A tabela abaixo resume os principais resultados:\n",
        "Métrica\tRegressão Logística\tRandom Forest\n",
        "Acurácia\t79,7%\t77,8%\n",
        "Recall (para Churn)\t55%\t47%\n",
        "Precisão (para Churn)\t64%\t61%\n",
        "AUC\t0.835\t0.819\n",
        "Embora ambos os modelos sejam eficazes, a Regressão Logística foi selecionada como o modelo final. A decisão se baseia em seu desempenho superior na métrica de AUC (0.835 vs. 0.819) e, crucialmente, em um Recall maior para a classe \"Churn\" (55% vs. 47%). Para um problema de evasão, é mais valioso para o negócio identificar corretamente um maior número de clientes que irão cancelar (maior Recall), mesmo que isso resulte em alguns falsos positivos, do que deixar de agir sobre clientes em risco.\n",
        "### Fatores Preditivos Mais Importantes\n",
        "A análise de importância das variáveis do modelo Random Forest (que, apesar de não ser o escolhido, oferece uma boa interpretabilidade) confirma os achados da análise exploratória. Os cinco principais fatores que o modelo utiliza para prever o churn são:\n",
        "Meses de Contrato: O fator mais importante. Clientes com baixo tempo de casa são os mais propensos a cancelar.\n",
        "Total Gasto: Clientes com um histórico de baixo gasto total são mais voláteis.\n",
        "Faturamento Mensal: Contas mensais mais altas aumentam a probabilidade de churn.\n",
        "Tipo de Contrato (Mês a Mês): Ser um cliente de contrato mensal é um forte preditor de evasão.\n",
        "Forma de Pagamento (Cheque Eletrônico): Este método de pagamento está associado a um maior risco.\n",
        "### Recomendações Estratégicas (Baseadas no Modelo Preditivo)\n",
        "O modelo de Regressão Logística pode ser integrado aos sistemas da Telecom X para gerar um \"score de risco de churn\" para cada cliente. Com base nisso, as estratégias podem ser refinadas:\n",
        "Ação Imediata (Campanha de Migração de Contrato):\n",
        "Público-alvo: Clientes com contrato \"Mês a Mês\" e com score de risco de churn acima de 70%.\n",
        "Estratégia: Oferecer um desconto personalizado e significativo na mensalidade para migração para um contrato anual. O custo do desconto é compensado pela prevenção da perda total da receita.\n",
        "Ação de Médio Prazo (Programa de Sucesso do Cliente):\n",
        "Público-alvo: Todos os novos clientes nos seus primeiros 6 meses, segmentados pelo score de risco.\n",
        "Estratégia: Clientes com score alto (>65%) devem receber um contato telefônico de um especialista para garantir a satisfação. Clientes com score médio (40-65%) podem entrar em um fluxo de e-mails com dicas de uso e ofertas de serviços adicionais.\n",
        "Ação Contínua (Otimização de Pacotes):\n",
        "Público-alvo: Clientes com Fibra Ótica e Faturamento Mensal alto que apresentam um score de risco crescente.\n",
        "Estratégia: Antes da renovação ou de um possível cancelamento, oferecer proativamente um pacote que inclua serviços de valor agregado (como Suporte Técnico, que foi identificado como importante) por um preço competitivo, aumentando a percepção de valor.\n",
        "### Conclusão\n",
        "O modelo de Regressão Logística desenvolvido é uma ferramenta poderosa e precisa para a Telecom X combater o churn de forma proativa. Sua implementação permitirá que a empresa direcione seus esforços de retenção de forma mais inteligente, otimizando recursos e, consequentemente, aumentando a fidelidade e a lucratividade a longo prazo."
      ]
    }
  ],
  "metadata": {
    "kernelspec": {
      "display_name": "Python 3",
      "language": "python",
      "name": "python3"
    },
    "language_info": {
      "codemirror_mode": {
        "name": "ipython",
        "version": 3
      },
      "file_extension": ".py",
      "mimetype": "text/x-python",
      "name": "python",
      "nbconvert_exporter": "python",
      "pygments_lexer": "ipython3",
      "version": "3.10.12"
    },
    "colab": {
      "provenance": []
    }
  },
  "nbformat": 4,
  "nbformat_minor": 0
}